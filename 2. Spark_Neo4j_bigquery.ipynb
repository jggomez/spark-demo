{
  "cells": [
    {
      "cell_type": "markdown",
      "metadata": {
        "id": "view-in-github",
        "colab_type": "text"
      },
      "source": [
        "<a href=\"https://colab.research.google.com/github/jggomez/spark-demo/blob/main/Apache_Spark_neo4j_bigquery.ipynb\" target=\"_parent\"><img src=\"https://colab.research.google.com/assets/colab-badge.svg\" alt=\"Open In Colab\"/></a>"
      ]
    },
    {
      "cell_type": "code",
      "execution_count": null,
      "metadata": {
        "id": "42epqJBXf4RF"
      },
      "outputs": [],
      "source": [
        "!pip install pyspark\n",
        "!pip install -U -q PyDrive\n",
        "!apt install openjdk-8-jdk-headless -qq\n",
        "import os\n",
        "os.environ[\"JAVA_HOME\"] = \"/usr/lib/jvm/java-8-openjdk-amd64\""
      ]
    },
    {
      "cell_type": "code",
      "execution_count": null,
      "metadata": {
        "id": "pnX7CMgYgDKQ"
      },
      "outputs": [],
      "source": [
        "from pyspark.sql.types import StructField, StructType, StringType, LongType\n",
        "from pyspark import SparkContext, SparkConf\n",
        "from pyspark.sql import SparkSession\n",
        "from datetime import datetime"
      ]
    },
    {
      "cell_type": "code",
      "execution_count": null,
      "metadata": {
        "colab": {
          "base_uri": "https://localhost:8080/",
          "height": 35
        },
        "id": "SIZJRqppBYQW",
        "outputId": "e1cde978-7364-4ee6-d36e-b66703e1fd8b"
      },
      "outputs": [
        {
          "output_type": "execute_result",
          "data": {
            "text/plain": [
              "'/content/neo4j-connector-apache-spark_2.12-4.1.5_for_spark_3.jar, /content/spark-3.3-bigquery-0.29.0-preview.jar'"
            ],
            "application/vnd.google.colaboratory.intrinsic+json": {
              "type": "string"
            }
          },
          "metadata": {},
          "execution_count": 14
        }
      ],
      "source": [
        "spark_session = SparkSession \\\n",
        "  .builder \\\n",
        "  .appName(\"reading_neo4j_contents_1\") \\\n",
        "  .config(\"spark.jars\", \"/content/neo4j-connector-apache-spark_2.12-4.1.5_for_spark_3.jar, /content/spark-3.3-bigquery-0.29.0-preview.jar\") \\\n",
        "  .getOrCreate()\n",
        "\n",
        "spark_session.conf.set(\"credentialsFile\", \"/content/wordboxdev-bigquery.json\")\n",
        "spark_session.conf.get(\"spark.jars\")"
      ]
    },
    {
      "cell_type": "markdown",
      "metadata": {
        "id": "_NIGRB9mkHGR"
      },
      "source": [
        "# Extract"
      ]
    },
    {
      "cell_type": "code",
      "execution_count": null,
      "metadata": {
        "colab": {
          "base_uri": "https://localhost:8080/"
        },
        "id": "WXbPCtK4j6mJ",
        "outputId": "1a41e45c-2d04-4862-a5d9-c046bf971025"
      },
      "outputs": [
        {
          "output_type": "execute_result",
          "data": {
            "text/plain": [
              "DataFrame[serie_id: string, content_id: string, duration: double, num_words: bigint]"
            ]
          },
          "metadata": {},
          "execution_count": 5
        }
      ],
      "source": [
        "series_contents = spark_session.read.format(\"org.neo4j.spark.DataSource\") \\\n",
        "  .option(\"url\", \"u\") \\\n",
        "  .option(\"authentication.type\", \"basic\") \\\n",
        "  .option(\"authentication.basic.username\", \"neo4j\") \\\n",
        "  .option(\"authentication.basic.password\", \"pass\") \\\n",
        "  .option(\"query\", \"\"\"MATCH (series:SERIES)\n",
        "                      WITH series\n",
        "                      LIMIT 2\n",
        "                      MATCH (series) - [:HAS_CONTENT] -> (content:CONTENT)\n",
        "                      RETURN series.id as serie_id,\n",
        "                              content.id as content_id,\n",
        "                              content.duration as duration,\n",
        "                              content.n_words as num_words\n",
        "                      \"\"\") \\\n",
        "  .load()\n",
        "\n",
        "series_contents"
      ]
    },
    {
      "cell_type": "markdown",
      "metadata": {
        "id": "LOL5nSWjkOcp"
      },
      "source": [
        "# Transform"
      ]
    },
    {
      "cell_type": "code",
      "execution_count": null,
      "metadata": {
        "colab": {
          "base_uri": "https://localhost:8080/"
        },
        "id": "b5gWPQREKNkv",
        "outputId": "a9b12116-e9e7-4668-cd01-b767cc3efee4"
      },
      "outputs": [
        {
          "output_type": "stream",
          "name": "stdout",
          "text": [
            "+---------------+\n",
            "|count(serie_id)|\n",
            "+---------------+\n",
            "|         107530|\n",
            "|          74216|\n",
            "+---------------+\n",
            "\n"
          ]
        }
      ],
      "source": [
        "series_contents.createOrReplaceTempView(\"SeriesContent\")\n",
        "output =  spark_session.sql('SELECT Count(serie_id) FROM SeriesContent GROUP BY serie_id')\n",
        "output.show()"
      ]
    },
    {
      "cell_type": "code",
      "execution_count": null,
      "metadata": {
        "colab": {
          "base_uri": "https://localhost:8080/"
        },
        "id": "yiY9u5VFRjAy",
        "outputId": "ea15cc19-eda2-4ae8-d147-c3fd8284dcf6"
      },
      "outputs": [
        {
          "output_type": "execute_result",
          "data": {
            "text/plain": [
              "181746"
            ]
          },
          "metadata": {},
          "execution_count": 7
        }
      ],
      "source": [
        "contents_count = series_contents.count()\n",
        "contents_count"
      ]
    },
    {
      "cell_type": "code",
      "execution_count": null,
      "metadata": {
        "colab": {
          "base_uri": "https://localhost:8080/"
        },
        "id": "TjuKPm1oTzIZ",
        "outputId": "6312975c-2b71-4c10-aa09-94d7821a2127"
      },
      "outputs": [
        {
          "output_type": "stream",
          "name": "stdout",
          "text": [
            "+--------------------+------+\n",
            "|            serie_id| count|\n",
            "+--------------------+------+\n",
            "|6e5a96db-9637-11e...|107530|\n",
            "|6e5a9e2e-9637-11e...| 74216|\n",
            "+--------------------+------+\n",
            "\n"
          ]
        },
        {
          "output_type": "execute_result",
          "data": {
            "text/plain": [
              "2"
            ]
          },
          "metadata": {},
          "execution_count": 9
        }
      ],
      "source": [
        "series_contents_count = series_contents.groupBy(\"serie_id\").count()\n",
        "series_contents_count.show()\n",
        "series_count = series_contents_count.count()\n",
        "series_count"
      ]
    },
    {
      "cell_type": "markdown",
      "metadata": {
        "id": "j-9V0KcXkTcm"
      },
      "source": [
        "# Load - **(L)**"
      ]
    },
    {
      "cell_type": "code",
      "execution_count": null,
      "metadata": {
        "id": "yl1Qk4cng89n",
        "colab": {
          "base_uri": "https://localhost:8080/",
          "height": 35
        },
        "outputId": "dc43c9dc-1c30-40e3-8185-7280fa8ae28e"
      },
      "outputs": [
        {
          "output_type": "execute_result",
          "data": {
            "text/plain": [
              "'08_26_23_06_20_51'"
            ],
            "application/vnd.google.colaboratory.intrinsic+json": {
              "type": "string"
            }
          },
          "metadata": {},
          "execution_count": 10
        }
      ],
      "source": [
        "today = datetime.now().strftime(\"%m_%d_%y_%H_%M_%S\")\n",
        "today"
      ]
    },
    {
      "cell_type": "code",
      "execution_count": null,
      "metadata": {
        "colab": {
          "base_uri": "https://localhost:8080/"
        },
        "id": "JyLi462Paps5",
        "outputId": "04067182-50e4-4b9c-e892-48bde346a323"
      },
      "outputs": [
        {
          "output_type": "execute_result",
          "data": {
            "text/plain": [
              "DataFrame[series_count: bigint, content_count: bigint]"
            ]
          },
          "metadata": {},
          "execution_count": 11
        }
      ],
      "source": [
        "fields_scheme_basic_data = [\n",
        "    StructField(\"series_count\", LongType(), True),\n",
        "    StructField(\"content_count\", LongType(), True)]\n",
        "\n",
        "scheme_basic_data = StructType(fields_scheme_basic_data)\n",
        "\n",
        "basic_data_counts = spark_session.createDataFrame([], scheme_basic_data)\n",
        "basic_data_counts"
      ]
    },
    {
      "cell_type": "code",
      "execution_count": null,
      "metadata": {
        "id": "2FaEiWrHgpQu"
      },
      "outputs": [],
      "source": [
        "table_name_contents_basic_data = f\"wordboxdev.contents.contents_basic_data_{today}\"\n",
        "basic_data_counts = basic_data_counts.union(spark_session.createDataFrame([(series_count, contents_count)], scheme_basic_data))"
      ]
    },
    {
      "cell_type": "code",
      "execution_count": null,
      "metadata": {
        "id": "u6LIvSZig0jI"
      },
      "outputs": [],
      "source": [
        "basic_data_counts.write.format('bigquery') \\\n",
        "  .option(\"writeMethod\", \"direct\") \\\n",
        "  .option('table', table_name_contents_basic_data) \\\n",
        "  .save()"
      ]
    },
    {
      "cell_type": "code",
      "execution_count": null,
      "metadata": {
        "id": "RYDi1KqveiIa"
      },
      "outputs": [],
      "source": [
        "fields_scheme_serie_content = [\n",
        "    StructField(\"serie_id\", StringType(), True),\n",
        "    StructField(\"content_count\", LongType(), True)]\n",
        "\n",
        "scheme_serie_content = StructType(fields_scheme_serie_content)\n",
        "serie_content_count_insert = spark_session.createDataFrame([], scheme_serie_content)"
      ]
    },
    {
      "cell_type": "code",
      "execution_count": null,
      "metadata": {
        "colab": {
          "base_uri": "https://localhost:8080/"
        },
        "id": "XV3tZ1NuGAGF",
        "outputId": "367ae774-5664-4436-ab60-524ed921733c"
      },
      "outputs": [
        {
          "output_type": "stream",
          "name": "stdout",
          "text": [
            "+--------------------+-------------+\n",
            "|            serie_id|content_count|\n",
            "+--------------------+-------------+\n",
            "|6e5a96db-9637-11e...|       107530|\n",
            "|6e5a9e2e-9637-11e...|        74216|\n",
            "+--------------------+-------------+\n",
            "\n"
          ]
        }
      ],
      "source": [
        "serie_content_count_insert = serie_content_count_insert.union(series_contents_count)\n",
        "serie_content_count_insert.show()"
      ]
    },
    {
      "cell_type": "code",
      "execution_count": null,
      "metadata": {
        "id": "LYzX2_yvk9SZ"
      },
      "outputs": [],
      "source": [
        "table_name = f\"wordboxdev.contents.serie_content_count_{today}\"\n",
        "series_contents_count.write.format('bigquery') \\\n",
        "  .option(\"writeMethod\", \"direct\") \\\n",
        "  .option('table', table_name) \\\n",
        "  .save()"
      ]
    }
  ],
  "metadata": {
    "colab": {
      "provenance": [],
      "include_colab_link": true
    },
    "kernelspec": {
      "display_name": "Python 3",
      "name": "python3"
    },
    "language_info": {
      "name": "python"
    }
  },
  "nbformat": 4,
  "nbformat_minor": 0
}
