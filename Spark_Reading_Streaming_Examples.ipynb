{
  "nbformat": 4,
  "nbformat_minor": 0,
  "metadata": {
    "colab": {
      "provenance": []
    },
    "kernelspec": {
      "name": "python3",
      "display_name": "Python 3"
    },
    "language_info": {
      "name": "python"
    }
  },
  "cells": [
    {
      "cell_type": "markdown",
      "source": [
        "# **Install the libraries**"
      ],
      "metadata": {
        "id": "bMS2aqEw1-Ng"
      }
    },
    {
      "cell_type": "code",
      "source": [
        "!pip install pyspark\n",
        "!pip install -U -q PyDrive\n",
        "!apt install openjdk-8-jdk-headless -qq\n",
        "import os\n",
        "os.environ[\"JAVA_HOME\"] = \"/usr/lib/jvm/java-8-openjdk-amd64\""
      ],
      "metadata": {
        "id": "zLAE_q472NMU"
      },
      "execution_count": null,
      "outputs": []
    },
    {
      "cell_type": "markdown",
      "source": [
        "# **Create a session**"
      ],
      "metadata": {
        "id": "hojOyzPB8t5A"
      }
    },
    {
      "cell_type": "code",
      "source": [
        "from pyspark.sql import SparkSession\n",
        "from pyspark.sql.types import StringType"
      ],
      "metadata": {
        "id": "3CfCmxsk6Pnj"
      },
      "execution_count": 3,
      "outputs": []
    },
    {
      "cell_type": "code",
      "source": [
        "spark_session = SparkSession \\\n",
        "  .builder \\\n",
        "  .appName(\"spark_reading_streaming\") \\\n",
        "  .master(\"yarn\").getOrCreate()"
      ],
      "metadata": {
        "id": "EHgKNP2n6Roe"
      },
      "execution_count": null,
      "outputs": []
    },
    {
      "cell_type": "code",
      "source": [
        "project_number = 823002731253\n",
        "location = \"us-central1-a\"\n",
        "topic_id = \"log-messages-topic\"\n",
        "subscription_id = \"log-messages-subscription\""
      ],
      "metadata": {
        "id": "OKiMAz-UB_Ji"
      },
      "execution_count": 7,
      "outputs": []
    },
    {
      "cell_type": "markdown",
      "source": [
        "# **Reading From Pub/Sub - Spark Streaming**"
      ],
      "metadata": {
        "id": "CTzsBw4EAXHQ"
      }
    },
    {
      "cell_type": "code",
      "source": [
        "dataframe = (\n",
        "    spark_session.readStream.format(\"pubsublite\")\n",
        "    .option(\n",
        "        \"pubsublite.subscription\",\n",
        "        f\"projects/{project_number}/locations/{location}/subscriptions/{subscription_id}\",\n",
        "    )\n",
        "    .load()\n",
        ")"
      ],
      "metadata": {
        "id": "21vKMg1v-mD0"
      },
      "execution_count": null,
      "outputs": []
    },
    {
      "cell_type": "code",
      "source": [
        "dataframe = dataframe.withColumn(\"data\", dataframe.data.cast(StringType()))\n",
        "\n",
        "query = (\n",
        "    dataframe.writeStream.format(\"console\")\n",
        "    .outputMode(\"append\")\n",
        "    .trigger(processingTime=\"1 second\")\n",
        "    .start()\n",
        ")\n",
        "\n",
        "query.awaitTermination(120)\n",
        "query.stop()"
      ],
      "metadata": {
        "id": "vwd2K8Hg7ZtR"
      },
      "execution_count": null,
      "outputs": []
    }
  ]
}