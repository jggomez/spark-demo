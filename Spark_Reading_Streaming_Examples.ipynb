{
  "nbformat": 4,
  "nbformat_minor": 0,
  "metadata": {
    "colab": {
      "provenance": [],
      "authorship_tag": "ABX9TyOvZAPRl9gCxvJ4qsaqF1vX",
      "include_colab_link": true
    },
    "kernelspec": {
      "name": "python3",
      "display_name": "Python 3"
    },
    "language_info": {
      "name": "python"
    }
  },
  "cells": [
    {
      "cell_type": "markdown",
      "metadata": {
        "id": "view-in-github",
        "colab_type": "text"
      },
      "source": [
        "<a href=\"https://colab.research.google.com/github/jggomez/spark-demo/blob/main/Spark_Reading_Streaming_Examples.ipynb\" target=\"_parent\"><img src=\"https://colab.research.google.com/assets/colab-badge.svg\" alt=\"Open In Colab\"/></a>"
      ]
    },
    {
      "cell_type": "markdown",
      "source": [
        "# **Install the libraries**"
      ],
      "metadata": {
        "id": "bMS2aqEw1-Ng"
      }
    },
    {
      "cell_type": "code",
      "source": [
        "!pip install pyspark\n",
        "!pip install -U -q PyDrive\n",
        "!apt install openjdk-8-jdk-headless -qq\n",
        "import os\n",
        "os.environ[\"JAVA_HOME\"] = \"/usr/lib/jvm/java-8-openjdk-amd64\""
      ],
      "metadata": {
        "id": "zLAE_q472NMU"
      },
      "execution_count": null,
      "outputs": []
    },
    {
      "cell_type": "markdown",
      "source": [
        "# **Create a session**"
      ],
      "metadata": {
        "id": "hojOyzPB8t5A"
      }
    },
    {
      "cell_type": "code",
      "source": [
        "from pyspark.sql import SparkSession\n",
        "from pyspark.sql.functions import array, create_map, col, lit, when\n",
        "from pyspark.sql.types import BinaryType, StringType\n",
        "import uuid"
      ],
      "metadata": {
        "id": "3CfCmxsk6Pnj"
      },
      "execution_count": 2,
      "outputs": []
    },
    {
      "cell_type": "code",
      "source": [
        "spark_session = SparkSession \\\n",
        "  .builder \\\n",
        "  .appName(\"spark_streaming\") \\\n",
        "  .getOrCreate()\n"
      ],
      "metadata": {
        "id": "EHgKNP2n6Roe"
      },
      "execution_count": 3,
      "outputs": []
    },
    {
      "cell_type": "code",
      "source": [
        "project_number = 823002731253\n",
        "location = \"us-central1-a\"\n",
        "topic_id = \"log-messages-topic\""
      ],
      "metadata": {
        "id": "OKiMAz-UB_Ji"
      },
      "execution_count": 18,
      "outputs": []
    },
    {
      "cell_type": "markdown",
      "source": [
        "# **Writing From Pub/Sub - Spark Streaming**"
      ],
      "metadata": {
        "id": "CTzsBw4EAXHQ"
      }
    },
    {
      "cell_type": "code",
      "source": [
        "dataframe = spark_session.readStream.format(\"rate\").option(\"rowsPerSecond\", 1).load()\n",
        "dataframe"
      ],
      "metadata": {
        "colab": {
          "base_uri": "https://localhost:8080/"
        },
        "id": "21vKMg1v-mD0",
        "outputId": "b6ac5668-c1b0-4843-bae7-53b4e9d81a39"
      },
      "execution_count": 21,
      "outputs": [
        {
          "output_type": "execute_result",
          "data": {
            "text/plain": [
              "DataFrame[timestamp: timestamp, value: bigint]"
            ]
          },
          "metadata": {},
          "execution_count": 21
        }
      ]
    },
    {
      "cell_type": "code",
      "source": [
        "#https://github.com/googleapis/java-pubsublite-spark#data-schema\n",
        "dataframe = (\n",
        "    dataframe.withColumn(\"key\", lit(\"example\").cast(BinaryType()))\n",
        "    .withColumn(\"data\", col(\"value\").cast(StringType()).cast(BinaryType()))\n",
        "    .withColumnRenamed(\"timestamp\", \"event_timestamp\")\n",
        "    .withColumn(\n",
        "        \"attributes\",\n",
        "        create_map(\n",
        "            lit(\"key1\"),\n",
        "            array(when(col(\"value\") % 2 == 0, b\"even\").otherwise(b\"odd\")),\n",
        "        ),\n",
        "    )\n",
        "    .drop(\"value\")\n",
        ")\n",
        "dataframe.printSchema()"
      ],
      "metadata": {
        "id": "vwd2K8Hg7ZtR",
        "outputId": "b7f33e72-65ef-47ee-d883-5da43a6b1d65",
        "colab": {
          "base_uri": "https://localhost:8080/"
        }
      },
      "execution_count": 22,
      "outputs": [
        {
          "output_type": "stream",
          "name": "stdout",
          "text": [
            "root\n",
            " |-- event_timestamp: timestamp (nullable = true)\n",
            " |-- key: binary (nullable = false)\n",
            " |-- data: binary (nullable = true)\n",
            " |-- attributes: map (nullable = false)\n",
            " |    |-- key: string\n",
            " |    |-- value: array (valueContainsNull = false)\n",
            " |    |    |-- element: binary (containsNull = false)\n",
            "\n"
          ]
        }
      ]
    },
    {
      "cell_type": "code",
      "source": [
        "query = (\n",
        "    dataframe.writeStream.format(\"pubsublite\")\n",
        "    .option(\n",
        "        \"pubsublite.topic\",\n",
        "        f\"projects/{project_number}/locations/{location}/topics/{topic_id}\",\n",
        "    )\n",
        "    .option(\"checkpointLocation\", \"/tmp/app\" + uuid.uuid4().hex)\n",
        "    .outputMode(\"append\")\n",
        "    .trigger(processingTime=\"1 second\")\n",
        "    .start()\n",
        ")"
      ],
      "metadata": {
        "id": "2OqbuRMM_Tdl"
      },
      "execution_count": null,
      "outputs": []
    },
    {
      "cell_type": "code",
      "source": [
        "query.awaitTermination(60)\n",
        "query.stop()"
      ],
      "metadata": {
        "id": "9WRWnk5tCP1P"
      },
      "execution_count": null,
      "outputs": []
    },
    {
      "cell_type": "markdown",
      "source": [
        "# **Reading From Pub/Sub - Spark Streaming**"
      ],
      "metadata": {
        "id": "0mlonu11FA-E"
      }
    }
  ]
}