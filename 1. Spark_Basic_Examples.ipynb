{
  "nbformat": 4,
  "nbformat_minor": 0,
  "metadata": {
    "colab": {
      "provenance": [],
      "authorship_tag": "ABX9TyPt7DWsVaIX+kPXGfL9LDWY",
      "include_colab_link": true
    },
    "kernelspec": {
      "name": "python3",
      "display_name": "Python 3"
    },
    "language_info": {
      "name": "python"
    }
  },
  "cells": [
    {
      "cell_type": "markdown",
      "metadata": {
        "id": "view-in-github",
        "colab_type": "text"
      },
      "source": [
        "<a href=\"https://colab.research.google.com/github/jggomez/spark-demo/blob/main/Spark_Examples.ipynb\" target=\"_parent\"><img src=\"https://colab.research.google.com/assets/colab-badge.svg\" alt=\"Open In Colab\"/></a>"
      ]
    },
    {
      "cell_type": "markdown",
      "source": [
        "# **Install the libraries**"
      ],
      "metadata": {
        "id": "bMS2aqEw1-Ng"
      }
    },
    {
      "cell_type": "code",
      "source": [
        "!pip install pyspark\n",
        "!pip install -U -q PyDrive\n",
        "!apt install openjdk-8-jdk-headless -qq\n",
        "import os\n",
        "os.environ[\"JAVA_HOME\"] = \"/usr/lib/jvm/java-8-openjdk-amd64\""
      ],
      "metadata": {
        "id": "zLAE_q472NMU"
      },
      "execution_count": null,
      "outputs": []
    },
    {
      "cell_type": "markdown",
      "source": [
        "# **Create a session**"
      ],
      "metadata": {
        "id": "hojOyzPB8t5A"
      }
    },
    {
      "cell_type": "code",
      "source": [
        "from pyspark.sql import SparkSession, Row\n",
        "from datetime import date"
      ],
      "metadata": {
        "id": "3CfCmxsk6Pnj"
      },
      "execution_count": 14,
      "outputs": []
    },
    {
      "cell_type": "code",
      "source": [
        "spark_session = SparkSession \\\n",
        "  .builder \\\n",
        "  .appName(\"dataframe_examples\") \\\n",
        "  .config(\"spark.jars\", \"/content/neo4j-connector-apache-spark_2.12-4.1.5_for_spark_3.jar, /content/spark-3.3-bigquery-0.29.0-preview.jar\") \\\n",
        "  .getOrCreate()\n"
      ],
      "metadata": {
        "id": "EHgKNP2n6Roe"
      },
      "execution_count": 4,
      "outputs": []
    },
    {
      "cell_type": "markdown",
      "source": [
        "# **Spark Dataframe**"
      ],
      "metadata": {
        "id": "CTzsBw4EAXHQ"
      }
    },
    {
      "cell_type": "code",
      "source": [
        "df_example = spark_session.createDataFrame([\n",
        "    (11222, \"Juan Guillermo\", 38, date(1984, 8, 21), \"CALI\"),\n",
        "    (33333, \"Veronica\", 45, date(1982, 8, 21), \"BOGOTA\"),\n",
        "    (4444, \"Miguel\", 30, date(1975, 8, 21), \"CALI\")],\n",
        "    schema=\"userid bigint, name string, age int, birthdate date, city string\")\n",
        "\n",
        "df_example.show()\n",
        "df_example.printSchema()\n",
        "df_example.show(1)\n",
        "df_example.columns"
      ],
      "metadata": {
        "colab": {
          "base_uri": "https://localhost:8080/"
        },
        "id": "21vKMg1v-mD0",
        "outputId": "7c3521cd-4e53-4e2a-a2b5-01d7e01c807f"
      },
      "execution_count": 39,
      "outputs": [
        {
          "output_type": "stream",
          "name": "stdout",
          "text": [
            "+------+--------------+---+----------+------+\n",
            "|userid|          name|age| birthdate|  city|\n",
            "+------+--------------+---+----------+------+\n",
            "| 11222|Juan Guillermo| 38|1984-08-21|  CALI|\n",
            "| 33333|      Veronica| 45|1982-08-21|BOGOTA|\n",
            "|  4444|        Miguel| 30|1975-08-21|  CALI|\n",
            "+------+--------------+---+----------+------+\n",
            "\n",
            "root\n",
            " |-- userid: long (nullable = true)\n",
            " |-- name: string (nullable = true)\n",
            " |-- age: integer (nullable = true)\n",
            " |-- birthdate: date (nullable = true)\n",
            " |-- city: string (nullable = true)\n",
            "\n",
            "+------+--------------+---+----------+----+\n",
            "|userid|          name|age| birthdate|city|\n",
            "+------+--------------+---+----------+----+\n",
            "| 11222|Juan Guillermo| 38|1984-08-21|CALI|\n",
            "+------+--------------+---+----------+----+\n",
            "only showing top 1 row\n",
            "\n"
          ]
        },
        {
          "output_type": "execute_result",
          "data": {
            "text/plain": [
              "['userid', 'name', 'age', 'birthdate', 'city']"
            ]
          },
          "metadata": {},
          "execution_count": 39
        }
      ]
    },
    {
      "cell_type": "code",
      "source": [
        "df_example.select(\"age\").describe().show()"
      ],
      "metadata": {
        "colab": {
          "base_uri": "https://localhost:8080/"
        },
        "id": "Yw2WbFEKBpWG",
        "outputId": "ece73843-310f-4cdd-8287-d09ac566a255"
      },
      "execution_count": 40,
      "outputs": [
        {
          "output_type": "stream",
          "name": "stdout",
          "text": [
            "+-------+------------------+\n",
            "|summary|               age|\n",
            "+-------+------------------+\n",
            "|  count|                 3|\n",
            "|   mean|37.666666666666664|\n",
            "| stddev| 7.505553499465135|\n",
            "|    min|                30|\n",
            "|    max|                45|\n",
            "+-------+------------------+\n",
            "\n"
          ]
        }
      ]
    },
    {
      "cell_type": "code",
      "source": [
        "df_example.collect()"
      ],
      "metadata": {
        "colab": {
          "base_uri": "https://localhost:8080/"
        },
        "id": "xBiy9s99EFDn",
        "outputId": "0b85735a-3ca3-486b-eca2-3d6a5a209c6e"
      },
      "execution_count": 41,
      "outputs": [
        {
          "output_type": "execute_result",
          "data": {
            "text/plain": [
              "[Row(userid=11222, name='Juan Guillermo', age=38, birthdate=datetime.date(1984, 8, 21), city='CALI'),\n",
              " Row(userid=33333, name='Veronica', age=45, birthdate=datetime.date(1982, 8, 21), city='BOGOTA'),\n",
              " Row(userid=4444, name='Miguel', age=30, birthdate=datetime.date(1975, 8, 21), city='CALI')]"
            ]
          },
          "metadata": {},
          "execution_count": 41
        }
      ]
    },
    {
      "cell_type": "code",
      "source": [
        "df_example.take(2)"
      ],
      "metadata": {
        "colab": {
          "base_uri": "https://localhost:8080/"
        },
        "id": "dH0zbFTKEH6d",
        "outputId": "98c63566-2a16-42f3-ce79-88cada46cb50"
      },
      "execution_count": 42,
      "outputs": [
        {
          "output_type": "execute_result",
          "data": {
            "text/plain": [
              "[Row(userid=11222, name='Juan Guillermo', age=38, birthdate=datetime.date(1984, 8, 21), city='CALI'),\n",
              " Row(userid=33333, name='Veronica', age=45, birthdate=datetime.date(1982, 8, 21), city='BOGOTA')]"
            ]
          },
          "metadata": {},
          "execution_count": 42
        }
      ]
    },
    {
      "cell_type": "code",
      "source": [
        "df_example.filter(df_example.userid == 11222).show()"
      ],
      "metadata": {
        "colab": {
          "base_uri": "https://localhost:8080/"
        },
        "id": "raH0O8ORFGtK",
        "outputId": "c037c412-65f9-4fdf-aa9a-9ba76f5a2d95"
      },
      "execution_count": 43,
      "outputs": [
        {
          "output_type": "stream",
          "name": "stdout",
          "text": [
            "+------+--------------+---+----------+----+\n",
            "|userid|          name|age| birthdate|city|\n",
            "+------+--------------+---+----------+----+\n",
            "| 11222|Juan Guillermo| 38|1984-08-21|CALI|\n",
            "+------+--------------+---+----------+----+\n",
            "\n"
          ]
        }
      ]
    },
    {
      "cell_type": "code",
      "source": [
        "df_example.groupby(\"city\").sum().show()"
      ],
      "metadata": {
        "colab": {
          "base_uri": "https://localhost:8080/"
        },
        "id": "HlEwnEJdF4Ee",
        "outputId": "4a92a022-ad07-4e54-82cf-545f813a26ea"
      },
      "execution_count": 45,
      "outputs": [
        {
          "output_type": "stream",
          "name": "stdout",
          "text": [
            "+------+-----------+--------+\n",
            "|  city|sum(userid)|sum(age)|\n",
            "+------+-----------+--------+\n",
            "|  CALI|      15666|      68|\n",
            "|BOGOTA|      33333|      45|\n",
            "+------+-----------+--------+\n",
            "\n"
          ]
        }
      ]
    },
    {
      "cell_type": "markdown",
      "source": [
        "# **Read a CSV**"
      ],
      "metadata": {
        "id": "2PEh93u283FX"
      }
    },
    {
      "cell_type": "code",
      "source": [
        "df_user = spark_session.read.csv(\"users.csv\", header=True, sep=\",\")\n",
        "df_user.select(\"id\").show()"
      ],
      "metadata": {
        "colab": {
          "base_uri": "https://localhost:8080/"
        },
        "id": "9zIciI6F6S0C",
        "outputId": "dd76f056-e8e8-4bb4-f497-06b20ac53ea7"
      },
      "execution_count": 61,
      "outputs": [
        {
          "output_type": "stream",
          "name": "stdout",
          "text": [
            "+--------------------+\n",
            "|                  id|\n",
            "+--------------------+\n",
            "|RAX2yfecEFOypF9M8...|\n",
            "|YKloSHEXzpdVOMz7C...|\n",
            "|5qj2wd3QEARg2eCoi...|\n",
            "|LfWXCt6rV3d1n6OZy...|\n",
            "|h78bKjUS8gcCo1Dd6...|\n",
            "|XCv3X0JeVrTMwnfFq...|\n",
            "|Z0s5GycXYEPqJjAro...|\n",
            "|BSXKShCNWsaDeloMr...|\n",
            "|pi47MxM1k1X08jVxu...|\n",
            "|tGmgqvIP6JgDDbnx0...|\n",
            "|VaET4sCISxe1ysbSj...|\n",
            "|yOVLW562H0fk3jxcP...|\n",
            "|bv26oR8yaZbrcxPxq...|\n",
            "|IZBIy7qJtmhyz6o0v...|\n",
            "|DV4H9VZG0TXnLxuvh...|\n",
            "|ph1taUTwnNPAwkfQy...|\n",
            "|MLt1fE1efIYZkUa9V...|\n",
            "|oa4DtLbANEbo6LfKq...|\n",
            "|oMUlAlMUOVPZPuM0i...|\n",
            "|5K8V86p6ZkU7Ul4yL...|\n",
            "+--------------------+\n",
            "only showing top 20 rows\n",
            "\n"
          ]
        }
      ]
    },
    {
      "cell_type": "markdown",
      "source": [
        "# **Filter**"
      ],
      "metadata": {
        "id": "0ts8H3-bTOvR"
      }
    },
    {
      "cell_type": "code",
      "source": [
        "df_user_mexico = df_user.filter((df_user.country == \"MX\") & (df_user.trialexpired == True))\n",
        "df_user.select(\"id\", \"country\", \"trialexpired\").show()"
      ],
      "metadata": {
        "colab": {
          "base_uri": "https://localhost:8080/"
        },
        "id": "CXVr5NtZHmaj",
        "outputId": "417d38f6-e2d1-4002-cbc8-b7fc61a03786"
      },
      "execution_count": 63,
      "outputs": [
        {
          "output_type": "stream",
          "name": "stdout",
          "text": [
            "+--------------------+-------+------------+\n",
            "|                  id|country|trialexpired|\n",
            "+--------------------+-------+------------+\n",
            "|RAX2yfecEFOypF9M8...|No data|     No data|\n",
            "|YKloSHEXzpdVOMz7C...|No data|       false|\n",
            "|5qj2wd3QEARg2eCoi...|No data|     No data|\n",
            "|LfWXCt6rV3d1n6OZy...|No data|     No data|\n",
            "|h78bKjUS8gcCo1Dd6...|No data|     No data|\n",
            "|XCv3X0JeVrTMwnfFq...|No data|       false|\n",
            "|Z0s5GycXYEPqJjAro...|     EC|     No data|\n",
            "|BSXKShCNWsaDeloMr...|No data|     No data|\n",
            "|pi47MxM1k1X08jVxu...|No data|     No data|\n",
            "|tGmgqvIP6JgDDbnx0...|No data|     No data|\n",
            "|VaET4sCISxe1ysbSj...|No data|     No data|\n",
            "|yOVLW562H0fk3jxcP...|No data|     No data|\n",
            "|bv26oR8yaZbrcxPxq...|No data|       false|\n",
            "|IZBIy7qJtmhyz6o0v...|No data|     No data|\n",
            "|DV4H9VZG0TXnLxuvh...|No data|     No data|\n",
            "|ph1taUTwnNPAwkfQy...|No data|     No data|\n",
            "|MLt1fE1efIYZkUa9V...|No data|     No data|\n",
            "|oa4DtLbANEbo6LfKq...|No data|     No data|\n",
            "|oMUlAlMUOVPZPuM0i...|No data|     No data|\n",
            "|5K8V86p6ZkU7Ul4yL...|No data|     No data|\n",
            "+--------------------+-------+------------+\n",
            "only showing top 20 rows\n",
            "\n"
          ]
        }
      ]
    },
    {
      "cell_type": "markdown",
      "source": [
        "# **Using SQL**"
      ],
      "metadata": {
        "id": "arJ4NHUXTSXT"
      }
    },
    {
      "cell_type": "code",
      "source": [
        "df_user_mexico.createOrReplaceTempView(\"users_mexico\")\n",
        "users_mexico_sql =spark_session.sql(\"SELECT count(*) FROM users_mexico\")\n",
        "users_mexico_sql.show()"
      ],
      "metadata": {
        "colab": {
          "base_uri": "https://localhost:8080/"
        },
        "id": "y0qS6htVPufe",
        "outputId": "0044e088-bb37-409b-96db-b2e18a3c2fe9"
      },
      "execution_count": 56,
      "outputs": [
        {
          "output_type": "stream",
          "name": "stdout",
          "text": [
            "+--------+\n",
            "|count(1)|\n",
            "+--------+\n",
            "|    1104|\n",
            "+--------+\n",
            "\n"
          ]
        }
      ]
    }
  ]
}
